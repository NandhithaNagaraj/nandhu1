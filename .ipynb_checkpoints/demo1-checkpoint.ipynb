{
 "cells": [
  {
   "cell_type": "code",
   "execution_count": 2,
   "id": "3710e82b-03e3-45b2-9b71-7eb47767fd74",
   "metadata": {},
   "outputs": [],
   "source": [
    "def fun(a,b):\n",
    "    return (a + b) "
   ]
  },
  {
   "cell_type": "code",
   "execution_count": 3,
   "id": "dc003ed0-46cb-427f-87fb-ff95990c921c",
   "metadata": {},
   "outputs": [
    {
     "data": {
      "text/plain": [
       "30"
      ]
     },
     "execution_count": 3,
     "metadata": {},
     "output_type": "execute_result"
    }
   ],
   "source": [
    "fun(10,20)"
   ]
  },
  {
   "cell_type": "code",
   "execution_count": null,
   "id": "712383fa-1888-4aee-b1ae-1b0c73c27cbd",
   "metadata": {},
   "outputs": [],
   "source": [
    "def fun(a,b):\n",
    "    return (a + b) / 2"
   ]
  }
 ],
 "metadata": {
  "kernelspec": {
   "display_name": "Python 3 (ipykernel)",
   "language": "python",
   "name": "python3"
  },
  "language_info": {
   "codemirror_mode": {
    "name": "ipython",
    "version": 3
   },
   "file_extension": ".py",
   "mimetype": "text/x-python",
   "name": "python",
   "nbconvert_exporter": "python",
   "pygments_lexer": "ipython3",
   "version": "3.11.7"
  }
 },
 "nbformat": 4,
 "nbformat_minor": 5
}
